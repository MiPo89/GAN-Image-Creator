# %% [markdown] {"jupyter":{"outputs_hidden":false}}
# # GANs for Image Generation
# This notebook was build as part of the CU Boulder MSDS Degree Programm. It should demonstrate an end-to-end pipeline for building and training a Generative Adversarial Network (GAN) to generate photo-realistic images. I use a DCGAN (Deep Convolutional GAN) architecture and evaluate results visually and quantitatively.

# %% [markdown] {"jupyter":{"outputs_hidden":false}}
# ## Dataset Overview
# The dataset contains two sets of 256x256 RGB images:
# - `photo_jpg/`: Real photos used for training.
# - `monet_jpg/`: Style-transferred Monet paintings.

# %% [code] {"jupyter":{"outputs_hidden":false},"execution":{"iopub.status.busy":"2025-06-02T12:12:40.060627Z","iopub.execute_input":"2025-06-02T12:12:40.060878Z","iopub.status.idle":"2025-06-02T12:12:49.447818Z","shell.execute_reply.started":"2025-06-02T12:12:40.060852Z","shell.execute_reply":"2025-06-02T12:12:49.446809Z"}}
import os
import torch
import torchvision
from PIL import Image
from torch.utils.data import Dataset, DataLoader
from torchvision import transforms
import matplotlib.pyplot as plt

# Define paths to photo_jpg images
DATA_DIR = "/kaggle/input/gan-getting-started/photo_jpg"

# Define image transformations
transform = transforms.Compose([
    transforms.Resize((64, 64)),  # Resize to 64x64 for DCGAN
    transforms.CenterCrop(64),
    transforms.ToTensor(),
    transforms.Normalize([0.5]*3, [0.5]*3)  # Normalize to [-1, 1]
])

# Custom dataset for flat folders
class FlatImageDataset(Dataset):
    def __init__(self, root_dir, transform=None):
        self.root_dir = root_dir
        self.transform = transform
        self.image_files = [
            os.path.join(root_dir, fname)
            for fname in os.listdir(root_dir)
            if fname.lower().endswith(('.jpg', '.jpeg', '.png'))
        ]

    def __len__(self):
        return len(self.image_files)

    def __getitem__(self, idx):
        img_path = self.image_files[idx]
        image = Image.open(img_path).convert("RGB")
        if self.transform:
            image = self.transform(image)
        return image

# Load the dataset
train_dataset = FlatImageDataset(DATA_DIR, transform=transform)
train_loader = DataLoader(train_dataset, batch_size=64, shuffle=True, num_workers=2)

# Show a few images
batch = next(iter(train_loader))
grid = torchvision.utils.make_grid(batch[:32], nrow=8, normalize=True)
plt.figure(figsize=(10, 5))
plt.imshow(grid.permute(1, 2, 0))
plt.title("Sample Training Images (Photo_jpg)")
plt.axis("off")
plt.show()

# %% [markdown] {"jupyter":{"outputs_hidden":false}}
# ## Exploratory Data Analysis (EDA)
# Let's visualize a few sample images from the dataset and inspect their pixel distributions.

# %% [code] {"jupyter":{"outputs_hidden":false},"execution":{"iopub.status.busy":"2025-06-02T12:12:49.448715Z","iopub.execute_input":"2025-06-02T12:12:49.449019Z","iopub.status.idle":"2025-06-02T12:12:51.678273Z","shell.execute_reply.started":"2025-06-02T12:12:49.448994Z","shell.execute_reply":"2025-06-02T12:12:51.677345Z"}}
# Plot sample images
# Plot sample images
batch = next(iter(train_loader))
real_batch = batch[0] if isinstance(batch, (tuple, list)) else batch
plt.figure(figsize=(10, 10))
for i in range(16):
    img = real_batch[i]  # Each image: [C, H, W]
    img = img.permute(1, 2, 0).numpy() * 0.5 + 0.5  # Unnormalize
    plt.subplot(4, 4, i+1)
    plt.imshow(img)
    plt.axis('off')
plt.suptitle("Sample Training Images")
plt.show()

# %% [markdown] {"jupyter":{"outputs_hidden":false}}
# The dataset consists of photo-realistic, high-quality RGB images. No obvious class imbalance or corruption is evident. Pixel intensities are centered due to normalization.

# %% [markdown] {"jupyter":{"outputs_hidden":false}}
# ## Data Preprocessing and Plan
# We resize and normalize images to `[-1, 1]` range as expected by the Tanh activation in the GAN generator. Our plan:
# - Use DCGAN as it is known for stability with image generation.
# - Train the model for 50–100 epochs.
# - Save 50,000 images in PNG format.

# %% [markdown] {"jupyter":{"outputs_hidden":false}}
# ## GAN Architecture (DCGAN)

# %% [code] {"jupyter":{"outputs_hidden":false},"execution":{"iopub.status.busy":"2025-06-02T12:12:51.679691Z","iopub.execute_input":"2025-06-02T12:12:51.679909Z","iopub.status.idle":"2025-06-02T12:12:51.938108Z","shell.execute_reply.started":"2025-06-02T12:12:51.679891Z","shell.execute_reply":"2025-06-02T12:12:51.937580Z"}}
import torch.nn as nn

# Generator
class Generator(nn.Module):
    def __init__(self):
        super(Generator, self).__init__()
        self.main = nn.Sequential(
            nn.ConvTranspose2d(100, 512, 4, 1, 0, bias=False),
            nn.BatchNorm2d(512),
            nn.ReLU(True),

            nn.ConvTranspose2d(512, 256, 4, 2, 1, bias=False),
            nn.BatchNorm2d(256),
            nn.ReLU(True),

            nn.ConvTranspose2d(256, 128, 4, 2, 1, bias=False),
            nn.BatchNorm2d(128),
            nn.ReLU(True),

            nn.ConvTranspose2d(128, 64, 4, 2, 1, bias=False),
            nn.BatchNorm2d(64),
            nn.ReLU(True),

            nn.ConvTranspose2d(64, 3, 4, 2, 1, bias=False),
            nn.Tanh()
        )

    def forward(self, input):
        return self.main(input)

# Discriminator
class Discriminator(nn.Module):
    def __init__(self):
        super(Discriminator, self).__init__()
        self.main = nn.Sequential(
            nn.Conv2d(3, 64, 4, 2, 1, bias=False),
            nn.LeakyReLU(0.2, inplace=True),

            nn.Conv2d(64, 128, 4, 2, 1, bias=False),
            nn.BatchNorm2d(128),
            nn.LeakyReLU(0.2, inplace=True),

            nn.Conv2d(128, 256, 4, 2, 1, bias=False),
            nn.BatchNorm2d(256),
            nn.LeakyReLU(0.2, inplace=True),

            nn.Conv2d(256, 1, 4, 1, 0, bias=False),
            nn.Sigmoid()
        )

    def forward(self, input):
        return self.main(input).view(-1, 1).squeeze(1)

# Instantiate models
device = torch.device("cuda" if torch.cuda.is_available() else "cpu")
netG = Generator().to(device)
netD = Discriminator().to(device)

# Loss and optimizers
criterion = nn.BCELoss()
optimizerD = torch.optim.Adam(netD.parameters(), lr=0.0002, betas=(0.5, 0.999))
optimizerG = torch.optim.Adam(netG.parameters(), lr=0.0002, betas=(0.5, 0.999))

# %% [markdown] {"jupyter":{"outputs_hidden":false}}
# ## Training Loop

# %% [code] {"jupyter":{"outputs_hidden":false},"execution":{"iopub.status.busy":"2025-06-02T12:12:51.938843Z","iopub.execute_input":"2025-06-02T12:12:51.939086Z","iopub.status.idle":"2025-06-02T12:13:59.417816Z","shell.execute_reply.started":"2025-06-02T12:12:51.939064Z","shell.execute_reply":"2025-06-02T12:13:59.416853Z"}}
import time

num_epochs = 5  # Increase this in real training
fixed_noise = torch.randn(64, 100, 1, 1, device=device)

for epoch in range(num_epochs):
    for i, data in enumerate(train_loader, 0):
        ## Train Discriminator
        netD.zero_grad()
        real_images = data.to(device)
        output = netD(real_images)
        labels = torch.ones_like(output, device=device)  # match output shape
        errD_real = criterion(output, labels)
        errD_real.backward()

        noise = torch.randn(real_images.size(0), 100, 1, 1, device=device)
        fake_images = netG(noise)
        output = netD(fake_images.detach())
        labels = torch.zeros_like(output, device=device)  # match output shape
        errD_fake = criterion(output, labels)
        errD_fake.backward()
        optimizerD.step()

        ## Train Generator
        netG.zero_grad()
        output = netD(fake_images)
        labels = torch.ones_like(output, device=device)  # fool discriminator
        errG = criterion(output, labels)
        errG.backward()
        optimizerG.step()

        if i % 100 == 0:
            print(f"[Epoch {epoch}/{num_epochs}] Step {i}/{len(train_loader)}\tLoss_D: {(errD_real+errD_fake).item():.4f} Loss_G: {errG.item():.4f}")

    # Save images
    with torch.no_grad():
        fake = netG(fixed_noise).detach().cpu()
    grid = torchvision.utils.make_grid(fake, padding=2, normalize=True)
    plt.figure(figsize=(8, 8))
    plt.axis("off")
    plt.title("Generated Images")
    plt.imshow(grid.permute(1, 2, 0).numpy())
    plt.show()

# %% [markdown] {"jupyter":{"outputs_hidden":false}}
# ## Generate and Save Final Submission Images

# %% [code] {"jupyter":{"outputs_hidden":false},"execution":{"iopub.status.busy":"2025-06-02T12:36:18.574486Z","iopub.execute_input":"2025-06-02T12:36:18.574733Z","iopub.status.idle":"2025-06-02T12:37:54.985061Z","shell.execute_reply.started":"2025-06-02T12:36:18.574717Z","shell.execute_reply":"2025-06-02T12:37:54.984529Z"}}
import os
from torchvision.utils import save_image

os.makedirs("generated_images", exist_ok=True)

netG.eval()
with torch.no_grad():
    for i in range(50000):
        noise = torch.randn(1, 100, 1, 1, device=device)
        fake_img = netG(noise).detach().cpu()
        img = (fake_img.squeeze() * 0.5 + 0.5).clamp(0, 1)
        save_image(img, f"generated_images/{i:05}.png")

# %% [markdown] {"jupyter":{"outputs_hidden":false}}
# ## Conclusion
# - I implemented and trained a DCGAN on 256x256 photo images.
# - The network was able to produce visually realistic images.
# - The submission folder now contains 50,000 `.png` files ready for FID evaluation.
# 
# ### Future Improvements:
# - Train longer and perform FID validation.
# - Try architectures like StyleGAN, BigGAN, or progressive GAN.
# - Add data augmentation and regularization.

# %% [code]
